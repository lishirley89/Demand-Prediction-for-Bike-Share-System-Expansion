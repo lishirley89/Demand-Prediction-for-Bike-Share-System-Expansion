{
  "cells": [
    {
      "cell_type": "markdown",
      "metadata": {},
      "source": [
        "# Preprocessing & Exploratory Data Analysis\n",
        "\n",
        "Brief: Notebook for cleaning, transforming, and exploring datasets for the project.\n",
        "\n",
        "- Objectives:\n",
        "  - Load raw data\n",
        "  - Clean/transform features\n",
        "  - Explore distributions and relationships\n",
        "  - Save processed datasets\n",
        "\n",
        "\n"
      ]
    },
    {
      "cell_type": "code",
      "execution_count": null,
      "metadata": {},
      "outputs": [],
      "source": [
        "# Common imports\n",
        "import os\n",
        "import sys\n",
        "import json\n",
        "from pathlib import Path\n",
        "\n",
        "import numpy as np\n",
        "import pandas as pd\n",
        "\n",
        "import matplotlib.pyplot as plt\n",
        "import seaborn as sns\n",
        "\n",
        "# Display settings\n",
        "pd.set_option('display.max_columns', 200)\n",
        "pd.set_option('display.width', 200)\n",
        "sns.set_theme(style=\"whitegrid\")\n",
        "\n",
        "# Project paths\n",
        "PROJECT_ROOT = Path('/Users/shirley/Documents/Research/demand/parkchargebike')\n",
        "DATA_DIR = PROJECT_ROOT / 'divvy'\n",
        "CODE_DIR = PROJECT_ROOT / 'code'\n",
        "\n",
        "print(f\"Project root: {PROJECT_ROOT}\")\n",
        "print(f\"Data dir: {DATA_DIR}\")\n"
      ]
    }
  ],
  "metadata": {
    "language_info": {
      "name": "python"
    }
  },
  "nbformat": 4,
  "nbformat_minor": 2
}
